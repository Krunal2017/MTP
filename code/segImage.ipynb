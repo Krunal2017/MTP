{
 "cells": [
  {
   "cell_type": "code",
   "execution_count": 1,
   "metadata": {},
   "outputs": [],
   "source": [
    "import cv2\n",
    "import argparse\n",
    "import imutils\n",
    "import time\n",
    "import scipy.io\n",
    "# from sklearn.svm import SVC\n",
    "import skvideo.io\n",
    "from sklearn.decomposition import PCA\n",
    "# from sklearn.manifold import Isomap\n",
    "# from sklearn.manifold import LocallyLinearEmbedding\n",
    "# from scipy.ndimage import morphology as mp\n",
    "# from skimage.feature import canny\n",
    "from thundersvm import SVC\n",
    "from random import sample\n",
    "# from sklearn.ensemble import RandomForestClassifier\n",
    "# from sklearn.neighbors import KNeighborsClassifier\n",
    "# from sklearn.ensemble import AdaBoostClassifier\n",
    "from sklearn.metrics import accuracy_score\n",
    "from sklearn.model_selection import GridSearchCV\n",
    "from sklearn.feature_extraction import image\n",
    "from random import shuffle\n",
    "import numpy as np\n",
    "import matplotlib.pyplot as plt\n",
    "import mahotas\n",
    "from imutils.video import VideoStream\n",
    "from imutils.video import FPS\n",
    "import os\n",
    "import pickle\n",
    "import copy"
   ]
  },
  {
   "cell_type": "code",
   "execution_count": null,
   "metadata": {},
   "outputs": [],
   "source": [
    "def mouse_click(event,x,y,flags,param):\n",
    "        if event == cv2.EVENT_LBUTTONDOWN:\n",
    "            corners.append([x,y])\n",
    "#             print(\"fno\"+str(fno))\n",
    "            for i in corners:\n",
    "                [x,y] = i\n",
    "#                 cropped_im[y,x]=255\n",
    "                cv2.circle(cropped_im,(x,y),3,255,-1)\n",
    "    \n",
    "cv2.namedWindow(str(label)+\":\"+filename)\n",
    "cv2.setMouseCallback(str(label)+\":\"+filename, mouse_click)\n",
    "\n",
    "if corners:\n",
    "#     img = frame[y1:y2,x1:x2]\n",
    "#     plt.imshow(img),plt.show()\n",
    "#     img = newim\n",
    "    mask = np.zeros((img.shape[0], img.shape[1]))\n",
    "    cv2.fillPoly(mask, [np.array(corners)], 1)\n",
    "\n",
    "    storepath = \"training/\"+str(label)+\"/\"\n",
    "    if not os.path.exists(storepath):\n",
    "        os.mkdir(storepath)\n",
    "    storepath = \"training/\"+str(label)+\"/train/\"\n",
    "    if not os.path.exists(storepath):\n",
    "        os.mkdir(storepath)\n",
    "    f1 = filename[:-len('.mp4')]\n",
    "    print(storepath+f1+'-frame.png')\n",
    "    cv2.imwrite(storepath+f1+'-frame.png',img)\n",
    "    cv2.imwrite(storepath+f1+'-gt.png',mask)\n",
    "    \n",
    "cv2.imshow(str(label)+\":\"+filename, cropped_im)\n",
    "# cv2.imshow(\"Img\",img);\n",
    "# cv2.imshow(\"Sil\",sil);\n",
    "# cv2.waitKey(0)\n",
    "# cv2.destroyAllWindows()"
   ]
  },
  {
   "cell_type": "code",
   "execution_count": 2,
   "metadata": {},
   "outputs": [
    {
     "ename": "NameError",
     "evalue": "name 'img' is not defined",
     "output_type": "error",
     "traceback": [
      "\u001b[0;31m---------------------------------------------------------------------------\u001b[0m",
      "\u001b[0;31mNameError\u001b[0m                                 Traceback (most recent call last)",
      "\u001b[0;32m<ipython-input-2-1b46b6d45ba4>\u001b[0m in \u001b[0;36m<module>\u001b[0;34m()\u001b[0m\n\u001b[1;32m      1\u001b[0m \u001b[0;32mwhile\u001b[0m \u001b[0;32mTrue\u001b[0m\u001b[0;34m:\u001b[0m\u001b[0;34m\u001b[0m\u001b[0;34m\u001b[0m\u001b[0m\n\u001b[0;32m----> 2\u001b[0;31m     \u001b[0mcv2\u001b[0m\u001b[0;34m.\u001b[0m\u001b[0mimshow\u001b[0m\u001b[0;34m(\u001b[0m\u001b[0;34m\"Img\"\u001b[0m\u001b[0;34m,\u001b[0m\u001b[0mimg\u001b[0m\u001b[0;34m)\u001b[0m\u001b[0;34m;\u001b[0m\u001b[0;34m\u001b[0m\u001b[0;34m\u001b[0m\u001b[0m\n\u001b[0m\u001b[1;32m      3\u001b[0m     \u001b[0;31m# cv2.imshow(\"Sil\",sil);\u001b[0m\u001b[0;34m\u001b[0m\u001b[0;34m\u001b[0m\u001b[0;34m\u001b[0m\u001b[0m\n\u001b[1;32m      4\u001b[0m     \u001b[0mkey\u001b[0m \u001b[0;34m=\u001b[0m \u001b[0mcv2\u001b[0m\u001b[0;34m.\u001b[0m\u001b[0mwaitKey\u001b[0m\u001b[0;34m(\u001b[0m\u001b[0;36m20\u001b[0m\u001b[0;34m)\u001b[0m \u001b[0;34m&\u001b[0m \u001b[0;36m0xFF\u001b[0m\u001b[0;34m\u001b[0m\u001b[0;34m\u001b[0m\u001b[0m\n\u001b[1;32m      5\u001b[0m \u001b[0;34m\u001b[0m\u001b[0m\n",
      "\u001b[0;31mNameError\u001b[0m: name 'img' is not defined"
     ]
    }
   ],
   "source": [
    "while True:\n",
    "    cv2.imshow(\"Img\",img);\n",
    "    # cv2.imshow(\"Sil\",sil);\n",
    "    key = cv2.waitKey(20) & 0xFF\n",
    "            \n",
    "    # if the `q` key was pressed, break from the loop\n",
    "    if key == ord(\"q\"):\n",
    "        break\n",
    "#     cv2.waitKey(0)\n",
    "cv2.destroyAllWindows()"
   ]
  },
  {
   "cell_type": "code",
   "execution_count": 3,
   "metadata": {},
   "outputs": [],
   "source": [
    "corners = []\n",
    "def mouse_click(event,x,y,flags,param):\n",
    "        if event == cv2.EVENT_LBUTTONDOWN:\n",
    "            corners.append([x,y])\n",
    "#             print(\"fno\"+str(fno))\n",
    "            for i in corners:\n",
    "                [x,y] = i\n",
    "#                 cropped_im[y,x]=255\n",
    "                cv2.circle(cropped_im,(x,y),3,255,-1)\n",
    "    \n",
    "cv2.namedWindow(\"Img:\")\n",
    "cv2.setMouseCallback(\"Img:\", mouse_click)"
   ]
  },
  {
   "cell_type": "code",
   "execution_count": 19,
   "metadata": {},
   "outputs": [],
   "source": [
    "path = \"training/56/images/\"\n",
    "\n",
    "storepath = \"training/56/masks/\"\n",
    "files = os.listdir(path)\n",
    "\n",
    "# files = files[:1]\n",
    "\n",
    "for f in ['2.jpg']:\n",
    "    corners=[]\n",
    "    img = cv2.imread(path+f)\n",
    "#     img = imutils.resize(img, width=500)\n",
    "#     cv2.imwrite(path+f,img)\n",
    "    def mouse_click(event,x,y,flags,param):\n",
    "        if event == cv2.EVENT_LBUTTONDOWN:\n",
    "            corners.append([x,y])\n",
    "            for i in corners:\n",
    "                [x,y] = i\n",
    "#                 print(\"clicked at:\"+str([x,y]))\n",
    "                cv2.circle(img,(x,y),3,255,-1)\n",
    "    \n",
    "    cv2.namedWindow(\"Img:\")\n",
    "    cv2.setMouseCallback(\"Img:\", mouse_click)\n",
    "    \n",
    "    while True:\n",
    "        cv2.imshow(\"Img:\",img);\n",
    "        # cv2.imshow(\"Sil\",sil);\n",
    "        key = cv2.waitKey(1) \n",
    "\n",
    "        # if the `q` key was pressed, break from the loop\n",
    "        if key == ord(\"p\"):\n",
    "            break\n",
    "    #     cv2.waitKey(0)\n",
    "    cv2.destroyAllWindows()\n",
    "    \n",
    "    if corners:\n",
    "        mask = np.zeros((img.shape[0], img.shape[1]))\n",
    "        cv2.fillPoly(mask, [np.array(corners)], 255)\n",
    "\n",
    "        cv2.imwrite(storepath+f,img)\n",
    "        cv2.imwrite(storepath+f,mask)\n"
   ]
  },
  {
   "cell_type": "code",
   "execution_count": 11,
   "metadata": {},
   "outputs": [
    {
     "data": {
      "text/plain": [
       "['17.jpg']"
      ]
     },
     "execution_count": 11,
     "metadata": {},
     "output_type": "execute_result"
    }
   ],
   "source": [
    "files"
   ]
  },
  {
   "cell_type": "code",
   "execution_count": null,
   "metadata": {},
   "outputs": [],
   "source": []
  }
 ],
 "metadata": {
  "kernelspec": {
   "display_name": "Python 3 (ipykernel)",
   "language": "python",
   "name": "python3"
  },
  "language_info": {
   "codemirror_mode": {
    "name": "ipython",
    "version": 3
   },
   "file_extension": ".py",
   "mimetype": "text/x-python",
   "name": "python",
   "nbconvert_exporter": "python",
   "pygments_lexer": "ipython3",
   "version": "3.10.11"
  }
 },
 "nbformat": 4,
 "nbformat_minor": 2
}
